{
 "cells": [
  {
   "cell_type": "code",
   "execution_count": 6,
   "id": "feb7eb6e",
   "metadata": {},
   "outputs": [],
   "source": [
    "x=1"
   ]
  },
  {
   "cell_type": "code",
   "execution_count": 2,
   "id": "33519341",
   "metadata": {},
   "outputs": [
    {
     "data": {
      "text/plain": [
       "1"
      ]
     },
     "execution_count": 2,
     "metadata": {},
     "output_type": "execute_result"
    }
   ],
   "source": [
    "x"
   ]
  },
  {
   "cell_type": "code",
   "execution_count": 3,
   "id": "6e5ec25c",
   "metadata": {},
   "outputs": [],
   "source": [
    "import numpy as np"
   ]
  },
  {
   "cell_type": "code",
   "execution_count": 4,
   "id": "a3847a4f",
   "metadata": {},
   "outputs": [],
   "source": [
    "x=np.random.random(100)"
   ]
  },
  {
   "cell_type": "code",
   "execution_count": 5,
   "id": "3c990305",
   "metadata": {},
   "outputs": [
    {
     "data": {
      "text/plain": [
       "array([0.71675222, 0.80343338, 0.37268532, 0.07396788, 0.57792597,\n",
       "       0.31879609, 0.29895805, 0.14286154, 0.48205698, 0.22134655,\n",
       "       0.10717362, 0.48311634, 0.14959736, 0.40795502, 0.35311212,\n",
       "       0.91729757, 0.31674933, 0.82593454, 0.15349463, 0.55695953,\n",
       "       0.11156423, 0.76525714, 0.3735414 , 0.9909905 , 0.02043152,\n",
       "       0.76044161, 0.62887736, 0.15993506, 0.35646676, 0.78244604,\n",
       "       0.00926254, 0.73040116, 0.55799309, 0.22539254, 0.95856352,\n",
       "       0.45828293, 0.49768666, 0.62110891, 0.31759803, 0.32244748,\n",
       "       0.40905723, 0.63116781, 0.42047363, 0.57956288, 0.96013585,\n",
       "       0.28390046, 0.8825092 , 0.82871055, 0.64146895, 0.10568216,\n",
       "       0.68898341, 0.79646172, 0.82863797, 0.93162535, 0.25220343,\n",
       "       0.17383811, 0.44122776, 0.50955413, 0.77822855, 0.29020182,\n",
       "       0.16248336, 0.62092049, 0.03102179, 0.01390469, 0.06139264,\n",
       "       0.42921582, 0.76081632, 0.49030173, 0.61470749, 0.41433637,\n",
       "       0.13071524, 0.20011724, 0.98266096, 0.06341204, 0.67440831,\n",
       "       0.8083182 , 0.77111757, 0.99498179, 0.27138137, 0.3360169 ,\n",
       "       0.85051512, 0.01450223, 0.10005016, 0.32393137, 0.25094541,\n",
       "       0.15344571, 0.60200341, 0.07915975, 0.75265651, 0.19061639,\n",
       "       0.45324427, 0.99575182, 0.39285692, 0.11566184, 0.96689865,\n",
       "       0.15406936, 0.46128441, 0.17217723, 0.01631565, 0.22891301])"
      ]
     },
     "execution_count": 5,
     "metadata": {},
     "output_type": "execute_result"
    }
   ],
   "source": [
    "x"
   ]
  },
  {
   "cell_type": "code",
   "execution_count": null,
   "id": "04220bf3",
   "metadata": {},
   "outputs": [],
   "source": []
  }
 ],
 "metadata": {
  "kernelspec": {
   "display_name": "Python 3 (ipykernel)",
   "language": "python",
   "name": "python3"
  },
  "language_info": {
   "codemirror_mode": {
    "name": "ipython",
    "version": 3
   },
   "file_extension": ".py",
   "mimetype": "text/x-python",
   "name": "python",
   "nbconvert_exporter": "python",
   "pygments_lexer": "ipython3",
   "version": "3.9.7"
  }
 },
 "nbformat": 4,
 "nbformat_minor": 5
}
